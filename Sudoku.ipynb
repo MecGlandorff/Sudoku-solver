{
 "cells": [
  {
   "cell_type": "markdown",
   "metadata": {},
   "source": [
    "This program helps you fix a Sudoku. It has to be a 9x9 sudoku with 3x3 subgrids. If you want to use it alter the sudoku_iput matrix to your grid. The empty spots should be entered as zero. "
   ]
  },
  {
   "cell_type": "code",
   "execution_count": 94,
   "metadata": {},
   "outputs": [],
   "source": [
    "import numpy as np"
   ]
  },
  {
   "cell_type": "code",
   "execution_count": 95,
   "metadata": {},
   "outputs": [],
   "source": [
    "# Sample Sudoku grid that works on 9x9 sudokus with 9 3x3 subgrids\n",
    "\n",
    "sudoku_input = [\n",
    "    [0, 0, 0, 2, 6, 0, 7, 0, 1],\n",
    "    [6, 8, 0, 0, 7, 0, 0, 9, 0],\n",
    "    [1, 9, 0, 0, 0, 4, 5, 0, 0],\n",
    "    [8, 2, 0, 1, 0, 0, 0, 4, 0],\n",
    "    [0, 0, 4, 6, 0, 2, 9, 0, 0],\n",
    "    [0, 5, 0, 0, 0, 3, 0, 2, 8],\n",
    "    [0, 0, 9, 3, 0, 0, 0, 7, 4],\n",
    "    [0, 4, 0, 0, 5, 0, 0, 3, 6],\n",
    "    [7, 0, 3, 0, 1, 8, 0, 0, 0]\n",
    "]\n"
   ]
  },
  {
   "cell_type": "code",
   "execution_count": 96,
   "metadata": {},
   "outputs": [],
   "source": [
    "def print_sudoku(sudoku):\n",
    "    \"\"\" Prints the sudoku \"\"\"\n",
    "    for row in sudoku:\n",
    "        print(\" \".join(str(num) if num != 0 else '*' for num in row))"
   ]
  },
  {
   "cell_type": "code",
   "execution_count": 97,
   "metadata": {},
   "outputs": [
    {
     "name": "stdout",
     "output_type": "stream",
     "text": [
      "* * * 2 6 * 7 * 1\n",
      "6 8 * * 7 * * 9 *\n",
      "1 9 * * * 4 5 * *\n",
      "8 2 * 1 * * * 4 *\n",
      "* * 4 6 * 2 9 * *\n",
      "* 5 * * * 3 * 2 8\n",
      "* * 9 3 * * * 7 4\n",
      "* 4 * * 5 * * 3 6\n",
      "7 * 3 * 1 8 * * *\n"
     ]
    }
   ],
   "source": [
    "print_sudoku(sudoku_input)"
   ]
  },
  {
   "cell_type": "code",
   "execution_count": 98,
   "metadata": {},
   "outputs": [],
   "source": [
    "def checker(sudoku, row, col, num):\n",
    "    \"\"\" Function that checks wether a number can be in a certain place \"\"\"\n",
    "    \n",
    "    # Check whether the number is in the row, if so return False\n",
    "    if num in sudoku[row]:\n",
    "        return False\n",
    "    \n",
    "    # Check whether the number is in the column, if so return False\n",
    "    if num in [sudoku[r][col] for r in range(9)]:\n",
    "        return False\n",
    "    \n",
    "    # Check wether the number is in the 3x3 subgrid, if so return False \n",
    "    start_row, start_col = 3 * (row // 3), 3 * (col // 3)\n",
    "    for i in range(3):\n",
    "        for j in range(3):\n",
    "            if sudoku[start_row + i][start_col + j] == num:\n",
    "                return False\n",
    "            \n",
    "\n",
    "    # Return true if the number can actually fit in the subgrid\n",
    "    \n",
    "    return True\n",
    "\n",
    "def find_empty(sudoku):\n",
    "    \"\"\" Looks for places to fill in a number, in the input grid the empty places have a value of zero, \n",
    "    so checks whether a spot has that value and if so it is defined as empty\"\"\"\n",
    "    \n",
    "    # Loops over all the spots within the 9x9 spot. If the value is 0 it returns the coordinates\n",
    "    for i in range(9):\n",
    "        for j in range(9):\n",
    "            if sudoku[i][j] == 0:\n",
    "                return (i, j)\n",
    "            \n",
    "    # If spot does not have a zero value coordinates arent saved.\n",
    "    \n",
    "    return None"
   ]
  },
  {
   "cell_type": "code",
   "execution_count": 99,
   "metadata": {},
   "outputs": [],
   "source": [
    "def solve_sudoku(sudoku):\n",
    "    \"\"\" Finds empty sell and inserts numbers from 1 to 9 to solve the sudoku \"\"\"\n",
    "    \n",
    "    # Find empty cells\n",
    "    empty_cell = find_empty(sudoku)\n",
    "    \n",
    "    # If there are no empty cells the Sudoku is solved or unsolvable\n",
    "    if not empty_cell:\n",
    "        return True \n",
    "    \n",
    "    # Get the coordinates of the empty cell for processing them in the loop\n",
    "    row, col = empty_cell\n",
    "\n",
    "    for num in range(1, 10):\n",
    "        # Check whether solution for spot is valid\n",
    "        if checker(sudoku, row, col, num):\n",
    "            sudoku[row][col] = num\n",
    "            if solve_sudoku(sudoku):\n",
    "                return True\n",
    "            sudoku[row][col] = 0  \n",
    "\n",
    "    return False"
   ]
  },
  {
   "cell_type": "code",
   "execution_count": 100,
   "metadata": {},
   "outputs": [
    {
     "name": "stdout",
     "output_type": "stream",
     "text": [
      "Your unsolved Sudoku\n",
      "* * * 2 6 * 7 * 1\n",
      "6 8 * * 7 * * 9 *\n",
      "1 9 * * * 4 5 * *\n",
      "8 2 * 1 * * * 4 *\n",
      "* * 4 6 * 2 9 * *\n",
      "* 5 * * * 3 * 2 8\n",
      "* * 9 3 * * * 7 4\n",
      "* 4 * * 5 * * 3 6\n",
      "7 * 3 * 1 8 * * *\n",
      "\n",
      "Your solved Sudoku\n",
      "4 3 5 2 6 9 7 8 1\n",
      "6 8 2 5 7 1 4 9 3\n",
      "1 9 7 8 3 4 5 6 2\n",
      "8 2 6 1 9 5 3 4 7\n",
      "3 7 4 6 8 2 9 1 5\n",
      "9 5 1 7 4 3 6 2 8\n",
      "5 1 9 3 2 6 8 7 4\n",
      "2 4 8 9 5 7 1 3 6\n",
      "7 6 3 4 1 8 2 5 9\n"
     ]
    }
   ],
   "source": [
    "print(\"Your unsolved Sudoku\")\n",
    "print_sudoku(sudoku_input)\n",
    "\n",
    "\n",
    "if solve_sudoku(sudoku_input):\n",
    "    print(\"\\nYour solved Sudoku\")\n",
    "    print_sudoku(sudoku_input)\n",
    "else:\n",
    "    print(\"\\nI am not able to solve this Sudoku. Are you sure it is solvable and the dimensions are right?\")"
   ]
  },
  {
   "cell_type": "code",
   "execution_count": null,
   "metadata": {},
   "outputs": [],
   "source": []
  },
  {
   "cell_type": "code",
   "execution_count": null,
   "metadata": {},
   "outputs": [],
   "source": []
  }
 ],
 "metadata": {
  "kernelspec": {
   "display_name": "Python 3 (ipykernel)",
   "language": "python",
   "name": "python3"
  },
  "language_info": {
   "codemirror_mode": {
    "name": "ipython",
    "version": 3
   },
   "file_extension": ".py",
   "mimetype": "text/x-python",
   "name": "python",
   "nbconvert_exporter": "python",
   "pygments_lexer": "ipython3",
   "version": "3.9.18"
  }
 },
 "nbformat": 4,
 "nbformat_minor": 2
}
